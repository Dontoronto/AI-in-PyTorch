{
 "cells": [
  {
   "cell_type": "code",
   "id": "initial_id",
   "metadata": {
    "collapsed": true,
    "ExecuteTime": {
     "end_time": "2024-08-05T01:00:47.467950Z",
     "start_time": "2024-08-05T01:00:47.176808Z"
    }
   },
   "source": [
    "import os\n",
    "import pandas as pd\n",
    "\n",
    "def read_and_structure_csv_files(folder_path, exclude_list):\n",
    "    # Initialize an empty list to store DataFrames\n",
    "    data_frames = []\n",
    "    file_name_list = []\n",
    "\n",
    "    # Iterate through all files in the folder\n",
    "    for file_name in os.listdir(folder_path):\n",
    "        # Check if the file is a CSV\n",
    "        # if file_name == 'Base Model.csv' or 'Default' in file_name or 'Conn' in file_name:\n",
    "        #exclude_conditions = ['Base Model.csv', 'Conn']\n",
    "        \n",
    "        if any(cond in file_name for cond in exclude_list):\n",
    "            continue\n",
    "        if file_name.endswith('.csv'):\n",
    "            print(file_name)\n",
    "            file_name_list.append(file_name)\n",
    "            file_path = os.path.join(folder_path, file_name)\n",
    "            # Read the CSV file into a DataFrame\n",
    "            df = pd.read_csv(file_path)\n",
    "            df.rename(columns={'True': 'Tricked'}, inplace=True)\n",
    "            df['Tricked'] = df['Tricked'].astype(str)\n",
    "            df['Tricked'] = df['Tricked'].str.strip()\n",
    "            df['Identifier'] = df['Identifier'].replace('Unknown', 'BPDA')\n",
    "            # Append the DataFrame to the list\n",
    "            df['filename'] = file_name\n",
    "            data_frames.append(df)\n",
    "            \n",
    "\n",
    "    # Concatenate all DataFrames into a single DataFrame\n",
    "    #combined_df = pd.concat(data_frames, ignore_index=True)\n",
    "\n",
    "    return data_frames, file_name_list"
   ],
   "outputs": [],
   "execution_count": 1
  },
  {
   "metadata": {
    "ExecuteTime": {
     "end_time": "2024-08-05T01:00:47.487261Z",
     "start_time": "2024-08-05T01:00:47.468823Z"
    }
   },
   "cell_type": "code",
   "source": [
    "# Specify the folder path containing the CSV files\n",
    "mod = \"lenet_soft\"\n",
    "folder_path = f'csv_{mod}/'\n",
    "# exclude_list = ['Base Model.csv', 'Conn']\n",
    "exclude_list = ['Base Model.csv', 'Conn']\n",
    "\n",
    "# Call the function to read and structure CSV files\n",
    "structured_data, file_name_list = read_and_structure_csv_files(folder_path, exclude_list)"
   ],
   "id": "b28f27a22d95978c",
   "outputs": [
    {
     "name": "stdout",
     "output_type": "stream",
     "text": [
      "SCP Default.csv\n",
      "Unstruct Adv.csv\n",
      "SCP Adv.csv\n",
      "Trivial Adv.csv\n",
      "Unstruct Default.csv\n",
      "Trivial Default.csv\n"
     ]
    }
   ],
   "execution_count": 2
  },
  {
   "metadata": {
    "ExecuteTime": {
     "end_time": "2024-08-05T01:00:47.494114Z",
     "start_time": "2024-08-05T01:00:47.487934Z"
    }
   },
   "cell_type": "code",
   "source": [
    "base_model_df = pd.read_csv(f'{folder_path}Base Model.csv')\n",
    "base_model_df.rename(columns={'True': 'Tricked'}, inplace=True)\n",
    "base_model_df['Identifier'] = base_model_df['Identifier'].replace('Unknown', 'BPDA')\n",
    "base_model_df['filename'] = \"Base Model.csv\"\n",
    "base_model_df['Tricked'] = base_model_df['Tricked'].astype(str)\n",
    "base_model_df.iloc[:, 2] = base_model_df.iloc[:, 2].str.strip()"
   ],
   "id": "cb47e126b3c8bd35",
   "outputs": [],
   "execution_count": 3
  },
  {
   "metadata": {
    "ExecuteTime": {
     "end_time": "2024-08-05T01:00:47.502724Z",
     "start_time": "2024-08-05T01:00:47.496586Z"
    }
   },
   "cell_type": "code",
   "source": [
    "base_model_filtered = base_model_df[\n",
    "    (base_model_df.iloc[:, 1] != 'Unknown') &\n",
    "    (base_model_df.iloc[:, 2] == \"True\") &\n",
    "    (base_model_df.iloc[:, 3] >= 0)\n",
    "    ]\n",
    "\n",
    "print(base_model_filtered)\n"
   ],
   "id": "d0d73d8cdc8b67d0",
   "outputs": [
    {
     "name": "stdout",
     "output_type": "stream",
     "text": [
      "    Identifier  Evaluation Tricked  2-Norm for Adv.-Image  Class  \\\n",
      "28    DeepFool        2358    True               0.757166      1   \n",
      "147        PGD        9638    True               0.606185      9   \n",
      "\n",
      "           filename  \n",
      "28   Base Model.csv  \n",
      "147  Base Model.csv  \n"
     ]
    }
   ],
   "execution_count": 4
  },
  {
   "metadata": {
    "ExecuteTime": {
     "end_time": "2024-08-05T01:00:47.512011Z",
     "start_time": "2024-08-05T01:00:47.503617Z"
    }
   },
   "cell_type": "code",
   "source": [
    "combined_other_filtered = [data[\n",
    "                               (data.iloc[:, 0] != 'Unknown') &\n",
    "                               (data.iloc[:, 2] == \"False\") &\n",
    "                               (data.iloc[:, 3] > 0)\n",
    "                               ] for data in structured_data]\n",
    "\n",
    "print(combined_other_filtered[0])\n",
    "\n"
   ],
   "id": "a14aa6bd253a5f0f",
   "outputs": [
    {
     "name": "stdout",
     "output_type": "stream",
     "text": [
      "    Identifier  Evaluation Tricked  2-Norm for Adv.-Image  Class  \\\n",
      "0     DeepFool        2772   False               0.132019      5   \n",
      "2     DeepFool        5980   False               0.346427      0   \n",
      "3     DeepFool        1662   False               1.038896      6   \n",
      "4     DeepFool         779   False               0.376378      5   \n",
      "11    DeepFool        8653   False               0.067752      5   \n",
      "..         ...         ...     ...                    ...    ...   \n",
      "395   OnePixel        1867   False               0.917267      1   \n",
      "396   OnePixel        6026   False               0.922992      7   \n",
      "397   OnePixel        5492   False               0.849129      3   \n",
      "398   OnePixel        4782   False               0.791578      3   \n",
      "399   OnePixel        1693   False               0.988667      5   \n",
      "\n",
      "            filename  \n",
      "0    SCP Default.csv  \n",
      "2    SCP Default.csv  \n",
      "3    SCP Default.csv  \n",
      "4    SCP Default.csv  \n",
      "11   SCP Default.csv  \n",
      "..               ...  \n",
      "395  SCP Default.csv  \n",
      "396  SCP Default.csv  \n",
      "397  SCP Default.csv  \n",
      "398  SCP Default.csv  \n",
      "399  SCP Default.csv  \n",
      "\n",
      "[345 rows x 6 columns]\n"
     ]
    }
   ],
   "execution_count": 5
  },
  {
   "metadata": {
    "ExecuteTime": {
     "end_time": "2024-08-05T01:00:47.521308Z",
     "start_time": "2024-08-05T01:00:47.512981Z"
    }
   },
   "cell_type": "code",
   "source": [
    "def count_matches(row):\n",
    "    return sum(\n",
    "        any(\n",
    "            (other_df.iloc[:, 0] == row.iloc[0]) &\n",
    "            (other_df.iloc[:, 1] == row.iloc[1])\n",
    "        ) for other_df in combined_other_filtered\n",
    "    )\n",
    "\n",
    "base_model_filtered['match_count'] = base_model_filtered.apply(count_matches, axis=1)\n",
    "base_model_filtered"
   ],
   "id": "a43d1e896e25b9b6",
   "outputs": [
    {
     "name": "stderr",
     "output_type": "stream",
     "text": [
      "/var/folders/s7/fxyhphlx22x1_wch4sxjtr1w0000gn/T/ipykernel_58562/905639066.py:9: SettingWithCopyWarning: \n",
      "A value is trying to be set on a copy of a slice from a DataFrame.\n",
      "Try using .loc[row_indexer,col_indexer] = value instead\n",
      "\n",
      "See the caveats in the documentation: https://pandas.pydata.org/pandas-docs/stable/user_guide/indexing.html#returning-a-view-versus-a-copy\n",
      "  base_model_filtered['match_count'] = base_model_filtered.apply(count_matches, axis=1)\n"
     ]
    },
    {
     "data": {
      "text/plain": [
       "    Identifier  Evaluation Tricked  2-Norm for Adv.-Image  Class  \\\n",
       "28    DeepFool        2358    True               0.757166      1   \n",
       "147        PGD        9638    True               0.606185      9   \n",
       "\n",
       "           filename  match_count  \n",
       "28   Base Model.csv            4  \n",
       "147  Base Model.csv            2  "
      ],
      "text/html": [
       "<div>\n",
       "<style scoped>\n",
       "    .dataframe tbody tr th:only-of-type {\n",
       "        vertical-align: middle;\n",
       "    }\n",
       "\n",
       "    .dataframe tbody tr th {\n",
       "        vertical-align: top;\n",
       "    }\n",
       "\n",
       "    .dataframe thead th {\n",
       "        text-align: right;\n",
       "    }\n",
       "</style>\n",
       "<table border=\"1\" class=\"dataframe\">\n",
       "  <thead>\n",
       "    <tr style=\"text-align: right;\">\n",
       "      <th></th>\n",
       "      <th>Identifier</th>\n",
       "      <th>Evaluation</th>\n",
       "      <th>Tricked</th>\n",
       "      <th>2-Norm for Adv.-Image</th>\n",
       "      <th>Class</th>\n",
       "      <th>filename</th>\n",
       "      <th>match_count</th>\n",
       "    </tr>\n",
       "  </thead>\n",
       "  <tbody>\n",
       "    <tr>\n",
       "      <th>28</th>\n",
       "      <td>DeepFool</td>\n",
       "      <td>2358</td>\n",
       "      <td>True</td>\n",
       "      <td>0.757166</td>\n",
       "      <td>1</td>\n",
       "      <td>Base Model.csv</td>\n",
       "      <td>4</td>\n",
       "    </tr>\n",
       "    <tr>\n",
       "      <th>147</th>\n",
       "      <td>PGD</td>\n",
       "      <td>9638</td>\n",
       "      <td>True</td>\n",
       "      <td>0.606185</td>\n",
       "      <td>9</td>\n",
       "      <td>Base Model.csv</td>\n",
       "      <td>2</td>\n",
       "    </tr>\n",
       "  </tbody>\n",
       "</table>\n",
       "</div>"
      ]
     },
     "execution_count": 6,
     "metadata": {},
     "output_type": "execute_result"
    }
   ],
   "execution_count": 6
  },
  {
   "metadata": {
    "ExecuteTime": {
     "end_time": "2024-08-05T01:00:47.526100Z",
     "start_time": "2024-08-05T01:00:47.522069Z"
    }
   },
   "cell_type": "code",
   "source": [
    "max_matches = base_model_filtered['match_count'].max()\n",
    "most_matched_rows = base_model_filtered[base_model_filtered['match_count'] == max_matches]\n",
    "\n",
    "\n",
    "most_matched_rows"
   ],
   "id": "be02800df1e6319a",
   "outputs": [
    {
     "data": {
      "text/plain": [
       "   Identifier  Evaluation Tricked  2-Norm for Adv.-Image  Class  \\\n",
       "28   DeepFool        2358    True               0.757166      1   \n",
       "\n",
       "          filename  match_count  \n",
       "28  Base Model.csv            4  "
      ],
      "text/html": [
       "<div>\n",
       "<style scoped>\n",
       "    .dataframe tbody tr th:only-of-type {\n",
       "        vertical-align: middle;\n",
       "    }\n",
       "\n",
       "    .dataframe tbody tr th {\n",
       "        vertical-align: top;\n",
       "    }\n",
       "\n",
       "    .dataframe thead th {\n",
       "        text-align: right;\n",
       "    }\n",
       "</style>\n",
       "<table border=\"1\" class=\"dataframe\">\n",
       "  <thead>\n",
       "    <tr style=\"text-align: right;\">\n",
       "      <th></th>\n",
       "      <th>Identifier</th>\n",
       "      <th>Evaluation</th>\n",
       "      <th>Tricked</th>\n",
       "      <th>2-Norm for Adv.-Image</th>\n",
       "      <th>Class</th>\n",
       "      <th>filename</th>\n",
       "      <th>match_count</th>\n",
       "    </tr>\n",
       "  </thead>\n",
       "  <tbody>\n",
       "    <tr>\n",
       "      <th>28</th>\n",
       "      <td>DeepFool</td>\n",
       "      <td>2358</td>\n",
       "      <td>True</td>\n",
       "      <td>0.757166</td>\n",
       "      <td>1</td>\n",
       "      <td>Base Model.csv</td>\n",
       "      <td>4</td>\n",
       "    </tr>\n",
       "  </tbody>\n",
       "</table>\n",
       "</div>"
      ]
     },
     "execution_count": 7,
     "metadata": {},
     "output_type": "execute_result"
    }
   ],
   "execution_count": 7
  },
  {
   "metadata": {
    "ExecuteTime": {
     "end_time": "2024-08-05T01:00:47.593301Z",
     "start_time": "2024-08-05T01:00:47.526978Z"
    }
   },
   "cell_type": "code",
   "source": [
    "all_matched_compare = pd.DataFrame()\n",
    "# for df in combined_other_filtered:\n",
    "#     matched = df[\n",
    "#         df['Evaluation'].isin(most_matched_rows['Evaluation']) &\n",
    "#         df['Identifier'].isin(most_matched_rows['Identifier'])\n",
    "#         ]\n",
    "#     all_matched_compare = pd.concat([all_matched_compare, matched])\n",
    "# for df in combined_other_filtered:\n",
    "#     matched = df[\n",
    "#         (df['Evaluation'] == most_matched_rows['Evaluation']) &\n",
    "#         (df['Identifier'] == most_matched_rows['Identifier'])\n",
    "#         ] # Select only the required columns\n",
    "#     all_matched_compare = pd.concat([all_matched_compare, matched], ignore_index=True)\n",
    "    \n",
    "# all_matched_compare = pd.dataframe(\n",
    "#     any(\n",
    "#         (other_df['Evaluation'] == most_matched_rows['Identifier']) &\n",
    "#         (other_df['Identifier'] == most_matched_rows['Evaluation'])\n",
    "#     ) for other_df in combined_other_filtered\n",
    "# )\n",
    "\n",
    "matched_dfs = []\n",
    "\n",
    "# Iterate through each DataFrame in the list\n",
    "for other_df in combined_other_filtered:\n",
    "    # Filter rows where 'Evaluation' and 'Identifier' match with 'most_matched_rows'\n",
    "    matched_rows = other_df[\n",
    "        other_df.apply(lambda row: any(\n",
    "            (row['Evaluation'] == most_row['Evaluation'] and row['Identifier'] == most_row['Identifier'])\n",
    "            for _, most_row in most_matched_rows.iterrows()\n",
    "        ), axis=1)\n",
    "    ]\n",
    "    # Append the filtered DataFrame to the list\n",
    "    matched_dfs.append(matched_rows)\n",
    "matched_dfs.append(most_matched_rows)\n",
    "\n",
    "# Concatenate all matched DataFrames into one\n",
    "all_matched_compare = pd.concat(matched_dfs, ignore_index=True)\n",
    "all_matched_compare.sort_values(by=['Identifier', 'Evaluation'], ignore_index=True)\n",
    "\n",
    "all_matched_compare.sort_values(by=['Identifier', 'Evaluation'], ignore_index=True).to_csv(f\"{mod}_base_neg.csv\", index=False, sep=';', decimal=',')\n",
    "\n",
    "all_matched_compare.sort_values(by=['Identifier', 'Evaluation'], ignore_index=True)\n",
    "    \n",
    "#all_matched_compare['filename'] = file_name_list\n",
    "#most_matched_rows['filename'] = \"Base Model.csv\"\n",
    "# all_matched_compare = pd.concat([all_matched_compare, most_matched_rows], ignore_index=True)\n",
    "# all_matched_compare.sort_values(by=['Identifier', 'Evaluation'], ignore_index=True)"
   ],
   "id": "da4770258c151cfe",
   "outputs": [
    {
     "data": {
      "text/plain": [
       "  Identifier  Evaluation Tricked  2-Norm for Adv.-Image  Class  \\\n",
       "0   DeepFool        2358   False               0.936218    1.0   \n",
       "1   DeepFool        2358   False               0.816113    1.0   \n",
       "2   DeepFool        2358   False               1.154948    1.0   \n",
       "3   DeepFool        2358   False               1.250886    1.0   \n",
       "4   DeepFool        2358    True               0.757166    1.0   \n",
       "\n",
       "               filename  match_count  \n",
       "0       SCP Default.csv          NaN  \n",
       "1      Unstruct Adv.csv          NaN  \n",
       "2       Trivial Adv.csv          NaN  \n",
       "3  Unstruct Default.csv          NaN  \n",
       "4        Base Model.csv          4.0  "
      ],
      "text/html": [
       "<div>\n",
       "<style scoped>\n",
       "    .dataframe tbody tr th:only-of-type {\n",
       "        vertical-align: middle;\n",
       "    }\n",
       "\n",
       "    .dataframe tbody tr th {\n",
       "        vertical-align: top;\n",
       "    }\n",
       "\n",
       "    .dataframe thead th {\n",
       "        text-align: right;\n",
       "    }\n",
       "</style>\n",
       "<table border=\"1\" class=\"dataframe\">\n",
       "  <thead>\n",
       "    <tr style=\"text-align: right;\">\n",
       "      <th></th>\n",
       "      <th>Identifier</th>\n",
       "      <th>Evaluation</th>\n",
       "      <th>Tricked</th>\n",
       "      <th>2-Norm for Adv.-Image</th>\n",
       "      <th>Class</th>\n",
       "      <th>filename</th>\n",
       "      <th>match_count</th>\n",
       "    </tr>\n",
       "  </thead>\n",
       "  <tbody>\n",
       "    <tr>\n",
       "      <th>0</th>\n",
       "      <td>DeepFool</td>\n",
       "      <td>2358</td>\n",
       "      <td>False</td>\n",
       "      <td>0.936218</td>\n",
       "      <td>1.0</td>\n",
       "      <td>SCP Default.csv</td>\n",
       "      <td>NaN</td>\n",
       "    </tr>\n",
       "    <tr>\n",
       "      <th>1</th>\n",
       "      <td>DeepFool</td>\n",
       "      <td>2358</td>\n",
       "      <td>False</td>\n",
       "      <td>0.816113</td>\n",
       "      <td>1.0</td>\n",
       "      <td>Unstruct Adv.csv</td>\n",
       "      <td>NaN</td>\n",
       "    </tr>\n",
       "    <tr>\n",
       "      <th>2</th>\n",
       "      <td>DeepFool</td>\n",
       "      <td>2358</td>\n",
       "      <td>False</td>\n",
       "      <td>1.154948</td>\n",
       "      <td>1.0</td>\n",
       "      <td>Trivial Adv.csv</td>\n",
       "      <td>NaN</td>\n",
       "    </tr>\n",
       "    <tr>\n",
       "      <th>3</th>\n",
       "      <td>DeepFool</td>\n",
       "      <td>2358</td>\n",
       "      <td>False</td>\n",
       "      <td>1.250886</td>\n",
       "      <td>1.0</td>\n",
       "      <td>Unstruct Default.csv</td>\n",
       "      <td>NaN</td>\n",
       "    </tr>\n",
       "    <tr>\n",
       "      <th>4</th>\n",
       "      <td>DeepFool</td>\n",
       "      <td>2358</td>\n",
       "      <td>True</td>\n",
       "      <td>0.757166</td>\n",
       "      <td>1.0</td>\n",
       "      <td>Base Model.csv</td>\n",
       "      <td>4.0</td>\n",
       "    </tr>\n",
       "  </tbody>\n",
       "</table>\n",
       "</div>"
      ]
     },
     "execution_count": 8,
     "metadata": {},
     "output_type": "execute_result"
    }
   ],
   "execution_count": 8
  },
  {
   "metadata": {
    "ExecuteTime": {
     "end_time": "2024-08-05T01:00:47.599523Z",
     "start_time": "2024-08-05T01:00:47.594250Z"
    }
   },
   "cell_type": "code",
   "source": [
    "# Function to determine the name with the lowest value in each group\n",
    "def find_lowest_name(group):\n",
    "    return group.loc[group['2-Norm for Adv.-Image'].idxmin(), 'filename']\n",
    "\n",
    "# Group by 'Identifier' and 'Evaluation' and apply the function to find the lowest name\n",
    "lowest_names = all_matched_compare.groupby(['Identifier', 'Evaluation']).apply(find_lowest_name).reset_index(name='LowestName')\n",
    "\n",
    "print(lowest_names)\n",
    "# Count the occurrences of each name being the lowest\n",
    "name_counts = lowest_names['LowestName'].value_counts().reset_index()\n",
    "name_counts.columns = ['filename', 'Count']\n",
    "\n",
    "export_min = \"minValAdv/\"\n",
    "export_base_fail = \"baseFail/\"\n",
    "\n",
    "#name_counts.to_csv(f\"{export_min}res_ultraHard_minAdv_ohneUnstr_ohneAdv.csv\", index=False)\n",
    "#all_matched_compare.sort_values(by=['Identifier', 'Evaluation'], ignore_index=True).to_csv(f\"{export_base_fail}res_ultraHard_ohneUnstr_ohneAdv.csv\", index=False)\n",
    "#all_matched_compare.sort_values(by=['Identifier', 'Evaluation'], ignore_index=True).to_csv(f\"{export_base_fail}lenet_ultraHard_ohneUnstr_ohneAdv.csv\", index=False)\n",
    "#all_matched_compare.to_csv(f\"{export_min}lenet_all_failed_ohneUnstruct_ohneAdv.csv\", index=False)\n",
    "\n",
    "\n",
    "print(all_matched_compare)\n",
    "print(name_counts)"
   ],
   "id": "841da6e453bc30e8",
   "outputs": [
    {
     "name": "stdout",
     "output_type": "stream",
     "text": [
      "  Identifier  Evaluation      LowestName\n",
      "0   DeepFool        2358  Base Model.csv\n",
      "  Identifier  Evaluation Tricked  2-Norm for Adv.-Image  Class  \\\n",
      "0   DeepFool        2358   False               0.936218    1.0   \n",
      "1   DeepFool        2358   False               0.816113    1.0   \n",
      "2   DeepFool        2358   False               1.154948    1.0   \n",
      "3   DeepFool        2358   False               1.250886    1.0   \n",
      "4   DeepFool        2358    True               0.757166    1.0   \n",
      "\n",
      "               filename  match_count  \n",
      "0       SCP Default.csv          NaN  \n",
      "1      Unstruct Adv.csv          NaN  \n",
      "2       Trivial Adv.csv          NaN  \n",
      "3  Unstruct Default.csv          NaN  \n",
      "4        Base Model.csv          4.0  \n",
      "         filename  Count\n",
      "0  Base Model.csv      1\n"
     ]
    }
   ],
   "execution_count": 9
  },
  {
   "metadata": {
    "ExecuteTime": {
     "end_time": "2024-08-05T01:00:47.602225Z",
     "start_time": "2024-08-05T01:00:47.601101Z"
    }
   },
   "cell_type": "code",
   "source": "",
   "id": "bc53c61b5ea29cdb",
   "outputs": [],
   "execution_count": 9
  }
 ],
 "metadata": {
  "kernelspec": {
   "display_name": "Python 3",
   "language": "python",
   "name": "python3"
  },
  "language_info": {
   "codemirror_mode": {
    "name": "ipython",
    "version": 2
   },
   "file_extension": ".py",
   "mimetype": "text/x-python",
   "name": "python",
   "nbconvert_exporter": "python",
   "pygments_lexer": "ipython2",
   "version": "2.7.6"
  }
 },
 "nbformat": 4,
 "nbformat_minor": 5
}
